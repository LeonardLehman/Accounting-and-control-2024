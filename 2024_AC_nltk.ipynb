{
  "nbformat": 4,
  "nbformat_minor": 0,
  "metadata": {
    "colab": {
      "provenance": []
    },
    "kernelspec": {
      "name": "python3",
      "display_name": "Python 3"
    },
    "language_info": {
      "name": "python"
    }
  },
  "cells": [
    {
      "cell_type": "code",
      "execution_count": null,
      "metadata": {
        "id": "viBh_UW_v74f"
      },
      "outputs": [],
      "source": [
        "import pandas as pd\n",
        "import numpy as np\n",
        "import nltk\n",
        "from nltk.corpus import stopwords\n",
        "from nltk.tokenize import word_tokenize\n",
        "import re\n",
        "import string\n",
        "from nltk.sentiment import SentimentIntensityAnalyzer\n",
        "from tqdm.notebook import tqdm_notebook\n",
        "nltk.download('punkt')\n",
        "nltk.download('stopwords')\n",
        "nltk.download('wordnet')\n",
        "nltk.download('vader_lexicon')\n",
        "sia = SentimentIntensityAnalyzer()"
      ]
    },
    {
      "cell_type": "code",
      "source": [
        "from google.colab import files\n",
        "uploaded = files.upload()"
      ],
      "metadata": {
        "id": "fUJjGB6RAcAt",
        "colab": {
          "base_uri": "https://localhost:8080/",
          "height": 74
        },
        "outputId": "a182a6d7-dcb0-40f1-bba1-2a52a75c90fa"
      },
      "execution_count": 64,
      "outputs": [
        {
          "output_type": "display_data",
          "data": {
            "text/plain": [
              "<IPython.core.display.HTML object>"
            ],
            "text/html": [
              "\n",
              "     <input type=\"file\" id=\"files-220b124a-e610-4175-b0b3-b84b6c7604ba\" name=\"files[]\" multiple disabled\n",
              "        style=\"border:none\" />\n",
              "     <output id=\"result-220b124a-e610-4175-b0b3-b84b6c7604ba\">\n",
              "      Upload widget is only available when the cell has been executed in the\n",
              "      current browser session. Please rerun this cell to enable.\n",
              "      </output>\n",
              "      <script>// Copyright 2017 Google LLC\n",
              "//\n",
              "// Licensed under the Apache License, Version 2.0 (the \"License\");\n",
              "// you may not use this file except in compliance with the License.\n",
              "// You may obtain a copy of the License at\n",
              "//\n",
              "//      http://www.apache.org/licenses/LICENSE-2.0\n",
              "//\n",
              "// Unless required by applicable law or agreed to in writing, software\n",
              "// distributed under the License is distributed on an \"AS IS\" BASIS,\n",
              "// WITHOUT WARRANTIES OR CONDITIONS OF ANY KIND, either express or implied.\n",
              "// See the License for the specific language governing permissions and\n",
              "// limitations under the License.\n",
              "\n",
              "/**\n",
              " * @fileoverview Helpers for google.colab Python module.\n",
              " */\n",
              "(function(scope) {\n",
              "function span(text, styleAttributes = {}) {\n",
              "  const element = document.createElement('span');\n",
              "  element.textContent = text;\n",
              "  for (const key of Object.keys(styleAttributes)) {\n",
              "    element.style[key] = styleAttributes[key];\n",
              "  }\n",
              "  return element;\n",
              "}\n",
              "\n",
              "// Max number of bytes which will be uploaded at a time.\n",
              "const MAX_PAYLOAD_SIZE = 100 * 1024;\n",
              "\n",
              "function _uploadFiles(inputId, outputId) {\n",
              "  const steps = uploadFilesStep(inputId, outputId);\n",
              "  const outputElement = document.getElementById(outputId);\n",
              "  // Cache steps on the outputElement to make it available for the next call\n",
              "  // to uploadFilesContinue from Python.\n",
              "  outputElement.steps = steps;\n",
              "\n",
              "  return _uploadFilesContinue(outputId);\n",
              "}\n",
              "\n",
              "// This is roughly an async generator (not supported in the browser yet),\n",
              "// where there are multiple asynchronous steps and the Python side is going\n",
              "// to poll for completion of each step.\n",
              "// This uses a Promise to block the python side on completion of each step,\n",
              "// then passes the result of the previous step as the input to the next step.\n",
              "function _uploadFilesContinue(outputId) {\n",
              "  const outputElement = document.getElementById(outputId);\n",
              "  const steps = outputElement.steps;\n",
              "\n",
              "  const next = steps.next(outputElement.lastPromiseValue);\n",
              "  return Promise.resolve(next.value.promise).then((value) => {\n",
              "    // Cache the last promise value to make it available to the next\n",
              "    // step of the generator.\n",
              "    outputElement.lastPromiseValue = value;\n",
              "    return next.value.response;\n",
              "  });\n",
              "}\n",
              "\n",
              "/**\n",
              " * Generator function which is called between each async step of the upload\n",
              " * process.\n",
              " * @param {string} inputId Element ID of the input file picker element.\n",
              " * @param {string} outputId Element ID of the output display.\n",
              " * @return {!Iterable<!Object>} Iterable of next steps.\n",
              " */\n",
              "function* uploadFilesStep(inputId, outputId) {\n",
              "  const inputElement = document.getElementById(inputId);\n",
              "  inputElement.disabled = false;\n",
              "\n",
              "  const outputElement = document.getElementById(outputId);\n",
              "  outputElement.innerHTML = '';\n",
              "\n",
              "  const pickedPromise = new Promise((resolve) => {\n",
              "    inputElement.addEventListener('change', (e) => {\n",
              "      resolve(e.target.files);\n",
              "    });\n",
              "  });\n",
              "\n",
              "  const cancel = document.createElement('button');\n",
              "  inputElement.parentElement.appendChild(cancel);\n",
              "  cancel.textContent = 'Cancel upload';\n",
              "  const cancelPromise = new Promise((resolve) => {\n",
              "    cancel.onclick = () => {\n",
              "      resolve(null);\n",
              "    };\n",
              "  });\n",
              "\n",
              "  // Wait for the user to pick the files.\n",
              "  const files = yield {\n",
              "    promise: Promise.race([pickedPromise, cancelPromise]),\n",
              "    response: {\n",
              "      action: 'starting',\n",
              "    }\n",
              "  };\n",
              "\n",
              "  cancel.remove();\n",
              "\n",
              "  // Disable the input element since further picks are not allowed.\n",
              "  inputElement.disabled = true;\n",
              "\n",
              "  if (!files) {\n",
              "    return {\n",
              "      response: {\n",
              "        action: 'complete',\n",
              "      }\n",
              "    };\n",
              "  }\n",
              "\n",
              "  for (const file of files) {\n",
              "    const li = document.createElement('li');\n",
              "    li.append(span(file.name, {fontWeight: 'bold'}));\n",
              "    li.append(span(\n",
              "        `(${file.type || 'n/a'}) - ${file.size} bytes, ` +\n",
              "        `last modified: ${\n",
              "            file.lastModifiedDate ? file.lastModifiedDate.toLocaleDateString() :\n",
              "                                    'n/a'} - `));\n",
              "    const percent = span('0% done');\n",
              "    li.appendChild(percent);\n",
              "\n",
              "    outputElement.appendChild(li);\n",
              "\n",
              "    const fileDataPromise = new Promise((resolve) => {\n",
              "      const reader = new FileReader();\n",
              "      reader.onload = (e) => {\n",
              "        resolve(e.target.result);\n",
              "      };\n",
              "      reader.readAsArrayBuffer(file);\n",
              "    });\n",
              "    // Wait for the data to be ready.\n",
              "    let fileData = yield {\n",
              "      promise: fileDataPromise,\n",
              "      response: {\n",
              "        action: 'continue',\n",
              "      }\n",
              "    };\n",
              "\n",
              "    // Use a chunked sending to avoid message size limits. See b/62115660.\n",
              "    let position = 0;\n",
              "    do {\n",
              "      const length = Math.min(fileData.byteLength - position, MAX_PAYLOAD_SIZE);\n",
              "      const chunk = new Uint8Array(fileData, position, length);\n",
              "      position += length;\n",
              "\n",
              "      const base64 = btoa(String.fromCharCode.apply(null, chunk));\n",
              "      yield {\n",
              "        response: {\n",
              "          action: 'append',\n",
              "          file: file.name,\n",
              "          data: base64,\n",
              "        },\n",
              "      };\n",
              "\n",
              "      let percentDone = fileData.byteLength === 0 ?\n",
              "          100 :\n",
              "          Math.round((position / fileData.byteLength) * 100);\n",
              "      percent.textContent = `${percentDone}% done`;\n",
              "\n",
              "    } while (position < fileData.byteLength);\n",
              "  }\n",
              "\n",
              "  // All done.\n",
              "  yield {\n",
              "    response: {\n",
              "      action: 'complete',\n",
              "    }\n",
              "  };\n",
              "}\n",
              "\n",
              "scope.google = scope.google || {};\n",
              "scope.google.colab = scope.google.colab || {};\n",
              "scope.google.colab._files = {\n",
              "  _uploadFiles,\n",
              "  _uploadFilesContinue,\n",
              "};\n",
              "})(self);\n",
              "</script> "
            ]
          },
          "metadata": {}
        },
        {
          "output_type": "stream",
          "name": "stdout",
          "text": [
            "Saving Commercial metal MD&A 2022.txt to Commercial metal MD&A 2022 (1).txt\n"
          ]
        }
      ]
    },
    {
      "cell_type": "code",
      "source": [
        "def processed_mda_text(mda_text):\n",
        "  text = re.sub('[^A-Za-z]+', ' ', mda_text)\n",
        "  tokens = word_tokenize(text.lower())\n",
        "\n",
        "  stop_words = set(stopwords.words('english'))\n",
        "  tokens = [w for w in tokens if not w in stop_words]\n",
        "\n",
        "  porter = nltk.PorterStemmer()\n",
        "  stemmed_tokens = [porter.stem(token) for token in tokens]\n",
        "  wnl = nltk.WordNetLemmatizer()\n",
        "  lemmatized_tokens = [wnl.lemmatize(token) for token in tokens]\n",
        "\n",
        "  preprocessed_text = ' '.join(stemmed_tokens)\n",
        "\n",
        "  return sia.polarity_scores(preprocessed_text)"
      ],
      "metadata": {
        "id": "G_WzwKJ1wiXM"
      },
      "execution_count": 4,
      "outputs": []
    },
    {
      "cell_type": "markdown",
      "source": [
        "Alcoa"
      ],
      "metadata": {
        "id": "mwJ_FDUriYyu"
      }
    },
    {
      "cell_type": "code",
      "source": [
        "text = open(\"Alcoa MD&A 2022.txt\").read()\n",
        "mda_text = processed_mda_text(text)\n",
        "mda_text"
      ],
      "metadata": {
        "colab": {
          "base_uri": "https://localhost:8080/"
        },
        "id": "NCf5rSSHgQC6",
        "outputId": "00bdf202-a2e3-4803-e6d7-4f0fa40032e4"
      },
      "execution_count": 18,
      "outputs": [
        {
          "output_type": "execute_result",
          "data": {
            "text/plain": [
              "{'neg': 0.039, 'neu': 0.82, 'pos': 0.14, 'compound': 0.9947}"
            ]
          },
          "metadata": {},
          "execution_count": 18
        }
      ]
    },
    {
      "cell_type": "code",
      "source": [
        "text = open(\"Alcoa MD&A 2023.txt\").read()\n",
        "mda_text = processed_mda_text(text)\n",
        "mda_text"
      ],
      "metadata": {
        "colab": {
          "base_uri": "https://localhost:8080/"
        },
        "id": "hLMIIlZzWzyS",
        "outputId": "67e40766-1d14-4ea2-acb3-8c4c142f5bcc"
      },
      "execution_count": 20,
      "outputs": [
        {
          "output_type": "execute_result",
          "data": {
            "text/plain": [
              "{'neg': 0.035, 'neu': 0.815, 'pos': 0.149, 'compound': 0.9989}"
            ]
          },
          "metadata": {},
          "execution_count": 20
        }
      ]
    },
    {
      "cell_type": "markdown",
      "source": [
        "Freeport"
      ],
      "metadata": {
        "id": "g3YH_xIqiXem"
      }
    },
    {
      "cell_type": "code",
      "source": [
        "text = open(\"Freeport MD&A 2022.txt\").read()\n",
        "mda_text = processed_mda_text(text)\n",
        "mda_text"
      ],
      "metadata": {
        "colab": {
          "base_uri": "https://localhost:8080/"
        },
        "id": "90vA7xJQhgqB",
        "outputId": "fc44857c-390d-4970-b4f4-679f75d88ffd"
      },
      "execution_count": 26,
      "outputs": [
        {
          "output_type": "execute_result",
          "data": {
            "text/plain": [
              "{'neg': 0.036, 'neu': 0.898, 'pos': 0.065, 'compound': 0.802}"
            ]
          },
          "metadata": {},
          "execution_count": 26
        }
      ]
    },
    {
      "cell_type": "code",
      "source": [
        "text = open(\"Freeport MD&A 2023.txt\").read()\n",
        "mda_text = processed_mda_text(text)\n",
        "mda_text"
      ],
      "metadata": {
        "colab": {
          "base_uri": "https://localhost:8080/"
        },
        "id": "pA-cpxcTf5gR",
        "outputId": "3f0ddedb-9f39-462a-d908-8603703d13e4"
      },
      "execution_count": 29,
      "outputs": [
        {
          "output_type": "execute_result",
          "data": {
            "text/plain": [
              "{'neg': 0.017, 'neu': 0.965, 'pos': 0.019, 'compound': 0.128}"
            ]
          },
          "metadata": {},
          "execution_count": 29
        }
      ]
    },
    {
      "cell_type": "markdown",
      "source": [
        "Newmont"
      ],
      "metadata": {
        "id": "KM9u_E1KiWDI"
      }
    },
    {
      "cell_type": "code",
      "source": [
        "text = open(\"Newmont MD&A 2022.txt\").read()\n",
        "mda_text = processed_mda_text(text)\n",
        "mda_text"
      ],
      "metadata": {
        "colab": {
          "base_uri": "https://localhost:8080/"
        },
        "id": "lqZaohTiiCOc",
        "outputId": "d0cb5d14-87e8-4172-db75-3b7128b0eb92"
      },
      "execution_count": 33,
      "outputs": [
        {
          "output_type": "execute_result",
          "data": {
            "text/plain": [
              "{'neg': 0.034, 'neu': 0.824, 'pos': 0.142, 'compound': 0.985}"
            ]
          },
          "metadata": {},
          "execution_count": 33
        }
      ]
    },
    {
      "cell_type": "code",
      "source": [
        "text = open(\"Newmont MD&A 2023.txt\").read()\n",
        "mda_text = processed_mda_text(text)\n",
        "mda_text"
      ],
      "metadata": {
        "colab": {
          "base_uri": "https://localhost:8080/"
        },
        "id": "XQ7kNejJiD_e",
        "outputId": "b9ed4886-a4d6-4c05-cf51-3bdf3ed10e43"
      },
      "execution_count": 31,
      "outputs": [
        {
          "output_type": "execute_result",
          "data": {
            "text/plain": [
              "{'neg': 0.019, 'neu': 0.852, 'pos': 0.129, 'compound': 0.9949}"
            ]
          },
          "metadata": {},
          "execution_count": 31
        }
      ]
    },
    {
      "cell_type": "markdown",
      "source": [
        "Carpenter"
      ],
      "metadata": {
        "id": "TxVsoCqCiaij"
      }
    },
    {
      "cell_type": "code",
      "source": [
        "text = open(\"Carpenter MD&A 2022.txt\").read()\n",
        "mda_text = processed_mda_text(text)\n",
        "mda_text"
      ],
      "metadata": {
        "colab": {
          "base_uri": "https://localhost:8080/"
        },
        "id": "BKejoBJ1hAnS",
        "outputId": "a1204fd3-c839-4872-cf38-b87a9accce77"
      },
      "execution_count": 22,
      "outputs": [
        {
          "output_type": "execute_result",
          "data": {
            "text/plain": [
              "{'neg': 0.066, 'neu': 0.699, 'pos': 0.236, 'compound': 0.989}"
            ]
          },
          "metadata": {},
          "execution_count": 22
        }
      ]
    },
    {
      "cell_type": "code",
      "source": [
        "text = open(\"Carpenter MD&A 2023.txt\").read()\n",
        "mda_text = processed_mda_text(text)\n",
        "mda_text"
      ],
      "metadata": {
        "colab": {
          "base_uri": "https://localhost:8080/"
        },
        "id": "5G_EjvQ5ZzQQ",
        "outputId": "2342ac3a-0593-4d1b-e2af-71b84ef946e0"
      },
      "execution_count": 24,
      "outputs": [
        {
          "output_type": "execute_result",
          "data": {
            "text/plain": [
              "{'neg': 0.042, 'neu': 0.81, 'pos': 0.149, 'compound': 0.9432}"
            ]
          },
          "metadata": {},
          "execution_count": 24
        }
      ]
    },
    {
      "cell_type": "markdown",
      "source": [
        "Royal Gold"
      ],
      "metadata": {
        "id": "kcpNZpnjmw2F"
      }
    },
    {
      "cell_type": "code",
      "source": [
        "text = open(\"Royal gold MD&A 2022.txt\").read()\n",
        "mda_text = processed_mda_text(text)\n",
        "mda_text"
      ],
      "metadata": {
        "colab": {
          "base_uri": "https://localhost:8080/"
        },
        "id": "PwsZgH9EjlPc",
        "outputId": "76d00d02-0380-4964-abdd-e8f59305c33b"
      },
      "execution_count": 37,
      "outputs": [
        {
          "output_type": "execute_result",
          "data": {
            "text/plain": [
              "{'neg': 0.025, 'neu': 0.816, 'pos': 0.158, 'compound': 0.9934}"
            ]
          },
          "metadata": {},
          "execution_count": 37
        }
      ]
    },
    {
      "cell_type": "code",
      "source": [
        "text = open(\"Royal gold MD&A 2023.txt\").read()\n",
        "mda_text = processed_mda_text(text)\n",
        "mda_text"
      ],
      "metadata": {
        "colab": {
          "base_uri": "https://localhost:8080/"
        },
        "id": "ubqkxKvlm0ff",
        "outputId": "159aa589-3956-4d80-a8be-3b44051d5a63"
      },
      "execution_count": 39,
      "outputs": [
        {
          "output_type": "execute_result",
          "data": {
            "text/plain": [
              "{'neg': 0.058, 'neu': 0.876, 'pos': 0.066, 'compound': 0.3818}"
            ]
          },
          "metadata": {},
          "execution_count": 39
        }
      ]
    },
    {
      "cell_type": "markdown",
      "source": [
        "Uranium Energy Corp"
      ],
      "metadata": {
        "id": "RBXTajKSicJ1"
      }
    },
    {
      "cell_type": "code",
      "source": [
        "text = open(\"Uranium Energy Corp MD&A 2022.txt\").read()\n",
        "mda_text = processed_mda_text(text)\n",
        "mda_text"
      ],
      "metadata": {
        "colab": {
          "base_uri": "https://localhost:8080/"
        },
        "id": "t0z7gdA2NBh7",
        "outputId": "9646b7a6-78a1-4825-8d0d-aadedd7083cf"
      },
      "execution_count": 16,
      "outputs": [
        {
          "output_type": "execute_result",
          "data": {
            "text/plain": [
              "{'neg': 0.054, 'neu': 0.85, 'pos': 0.096, 'compound': 0.9709}"
            ]
          },
          "metadata": {},
          "execution_count": 16
        }
      ]
    },
    {
      "cell_type": "code",
      "source": [
        "text = open(\"Uranium Energy Corp MD&A 2023.txt\").read()\n",
        "mda_text = processed_mda_text(text)\n",
        "mda_text"
      ],
      "metadata": {
        "colab": {
          "base_uri": "https://localhost:8080/"
        },
        "id": "2JI2ZVdHSI_u",
        "outputId": "913afa4a-e64a-45a4-dff4-6d6a08447e6a"
      },
      "execution_count": 10,
      "outputs": [
        {
          "output_type": "execute_result",
          "data": {
            "text/plain": [
              "{'neg': 0.051, 'neu': 0.857, 'pos': 0.092, 'compound': 0.9638}"
            ]
          },
          "metadata": {},
          "execution_count": 10
        }
      ]
    },
    {
      "cell_type": "markdown",
      "source": [
        "MP Materials"
      ],
      "metadata": {
        "id": "77mQlhQ6niEU"
      }
    },
    {
      "cell_type": "code",
      "source": [
        "text = open(\"MP MD&A 2022.txt\").read()\n",
        "mda_text = processed_mda_text(text)\n",
        "mda_text"
      ],
      "metadata": {
        "colab": {
          "base_uri": "https://localhost:8080/"
        },
        "id": "voS7xKVXkHIy",
        "outputId": "62d14932-d1e5-4e1d-8185-2f96a75d8357"
      },
      "execution_count": 41,
      "outputs": [
        {
          "output_type": "execute_result",
          "data": {
            "text/plain": [
              "{'neg': 0.039, 'neu': 0.891, 'pos': 0.07, 'compound': 0.8442}"
            ]
          },
          "metadata": {},
          "execution_count": 41
        }
      ]
    },
    {
      "cell_type": "code",
      "source": [
        "text = open(\"MP MD&A 2023.txt\").read()\n",
        "mda_text = processed_mda_text(text)\n",
        "mda_text"
      ],
      "metadata": {
        "colab": {
          "base_uri": "https://localhost:8080/"
        },
        "id": "LEhq2TDfkHAd",
        "outputId": "a88c80ed-fa3c-4a73-fcd2-418d261d452f"
      },
      "execution_count": 43,
      "outputs": [
        {
          "output_type": "execute_result",
          "data": {
            "text/plain": [
              "{'neg': 0.031, 'neu': 0.891, 'pos': 0.078, 'compound': 0.9246}"
            ]
          },
          "metadata": {},
          "execution_count": 43
        }
      ]
    },
    {
      "cell_type": "markdown",
      "source": [
        "Steel Dynamics"
      ],
      "metadata": {
        "id": "RZldvDZGoPQm"
      }
    },
    {
      "cell_type": "code",
      "source": [
        "text = open(\"Steel dynamics MD&A 2022.txt\").read()\n",
        "mda_text = processed_mda_text(text)\n",
        "mda_text"
      ],
      "metadata": {
        "colab": {
          "base_uri": "https://localhost:8080/"
        },
        "id": "9xAGrRfekI9s",
        "outputId": "a20d9790-cb54-49cd-f188-0a409ef670fc"
      },
      "execution_count": 45,
      "outputs": [
        {
          "output_type": "execute_result",
          "data": {
            "text/plain": [
              "{'neg': 0.031, 'neu': 0.86, 'pos': 0.109, 'compound': 0.9565}"
            ]
          },
          "metadata": {},
          "execution_count": 45
        }
      ]
    },
    {
      "cell_type": "code",
      "source": [
        "text = open(\"Steel dynamics MD&A 2023.txt\").read()\n",
        "mda_text = processed_mda_text(text)\n",
        "mda_text"
      ],
      "metadata": {
        "colab": {
          "base_uri": "https://localhost:8080/"
        },
        "id": "G76nVJNvqigA",
        "outputId": "1dc9dfc8-db72-4af7-a5c8-7cc3604600ca"
      },
      "execution_count": 47,
      "outputs": [
        {
          "output_type": "execute_result",
          "data": {
            "text/plain": [
              "{'neg': 0.023, 'neu': 0.908, 'pos': 0.069, 'compound': 0.9337}"
            ]
          },
          "metadata": {},
          "execution_count": 47
        }
      ]
    },
    {
      "cell_type": "markdown",
      "source": [
        "Commercial metals"
      ],
      "metadata": {
        "id": "hHTLjYSiqkZj"
      }
    },
    {
      "cell_type": "code",
      "source": [
        "text = open(\"Commercial metal MD&A 2022.txt\").read()\n",
        "mda_text = processed_mda_text(text)\n",
        "mda_text"
      ],
      "metadata": {
        "colab": {
          "base_uri": "https://localhost:8080/"
        },
        "id": "WuQx-NBvkJZk",
        "outputId": "968e183b-2252-4ae1-8541-47872bbc868c"
      },
      "execution_count": 65,
      "outputs": [
        {
          "output_type": "execute_result",
          "data": {
            "text/plain": [
              "{'neg': 0.021, 'neu': 0.956, 'pos': 0.024, 'compound': 0.0258}"
            ]
          },
          "metadata": {},
          "execution_count": 65
        }
      ]
    },
    {
      "cell_type": "code",
      "source": [
        "text = open(\"Commercial metal MD&A 2023.txt\").read()\n",
        "mda_text = processed_mda_text(text)\n",
        "mda_text"
      ],
      "metadata": {
        "colab": {
          "base_uri": "https://localhost:8080/"
        },
        "id": "YPnJUKKzwbgx",
        "outputId": "0b5bd9d7-0b81-4502-df55-bb409c07d6a9"
      },
      "execution_count": 54,
      "outputs": [
        {
          "output_type": "execute_result",
          "data": {
            "text/plain": [
              "{'neg': 0.019, 'neu': 0.942, 'pos': 0.039, 'compound': 0.886}"
            ]
          },
          "metadata": {},
          "execution_count": 54
        }
      ]
    },
    {
      "cell_type": "markdown",
      "source": [
        "Reliance"
      ],
      "metadata": {
        "id": "GO-HZueuxlwM"
      }
    },
    {
      "cell_type": "code",
      "source": [
        "text = open(\"reliance MD&A 2022.txt\").read()\n",
        "mda_text = processed_mda_text(text)\n",
        "mda_text"
      ],
      "metadata": {
        "colab": {
          "base_uri": "https://localhost:8080/"
        },
        "id": "1kpUvtu_yTHp",
        "outputId": "7ceb6e1e-28e1-47ea-dcd5-4558129ea435"
      },
      "execution_count": 59,
      "outputs": [
        {
          "output_type": "execute_result",
          "data": {
            "text/plain": [
              "{'neg': 0.025, 'neu': 0.768, 'pos': 0.207, 'compound': 0.9959}"
            ]
          },
          "metadata": {},
          "execution_count": 59
        }
      ]
    },
    {
      "cell_type": "code",
      "source": [
        "text = open(\"reliance MD&A 2023.txt\").read()\n",
        "mda_text = processed_mda_text(text)\n",
        "mda_text"
      ],
      "metadata": {
        "colab": {
          "base_uri": "https://localhost:8080/"
        },
        "id": "GFgK02xX1jeP",
        "outputId": "139fba48-2ac1-4d91-d080-af7f53b12cc6"
      },
      "execution_count": 60,
      "outputs": [
        {
          "output_type": "execute_result",
          "data": {
            "text/plain": [
              "{'neg': 0.012, 'neu': 0.762, 'pos': 0.226, 'compound': 0.998}"
            ]
          },
          "metadata": {},
          "execution_count": 60
        }
      ]
    },
    {
      "cell_type": "markdown",
      "source": [
        "ATI INC"
      ],
      "metadata": {
        "id": "VIAN50vMxmwv"
      }
    },
    {
      "cell_type": "code",
      "source": [
        "text = open(\"ATI MD&A 2022.txt\").read()\n",
        "mda_text = processed_mda_text(text)\n",
        "mda_text"
      ],
      "metadata": {
        "colab": {
          "base_uri": "https://localhost:8080/"
        },
        "id": "EnbMRKFJx67I",
        "outputId": "e651d60e-55c2-429f-a14b-38f1b32bf875"
      },
      "execution_count": 61,
      "outputs": [
        {
          "output_type": "execute_result",
          "data": {
            "text/plain": [
              "{'neg': 0.021, 'neu': 0.776, 'pos': 0.204, 'compound': 0.9951}"
            ]
          },
          "metadata": {},
          "execution_count": 61
        }
      ]
    },
    {
      "cell_type": "code",
      "source": [
        "text = open(\"ATI MD&A 2023.txt\").read()\n",
        "mda_text = processed_mda_text(text)\n",
        "mda_text"
      ],
      "metadata": {
        "colab": {
          "base_uri": "https://localhost:8080/"
        },
        "id": "v-9UzYr1x7ha",
        "outputId": "2fa1b455-0819-4253-f60d-19237d897942"
      },
      "execution_count": 62,
      "outputs": [
        {
          "output_type": "execute_result",
          "data": {
            "text/plain": [
              "{'neg': 0.015, 'neu': 0.849, 'pos': 0.136, 'compound': 0.9953}"
            ]
          },
          "metadata": {},
          "execution_count": 62
        }
      ]
    }
  ]
}